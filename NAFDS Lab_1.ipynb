{
 "cells": [
  {
   "cell_type": "code",
   "execution_count": 1,
   "id": "a793dfb8",
   "metadata": {},
   "outputs": [],
   "source": [
    "import numpy as np\n",
    "from scipy.linalg import lu"
   ]
  },
  {
   "cell_type": "markdown",
   "id": "35e6a58a",
   "metadata": {},
   "source": [
    "### Solve the following system of equations using LU Decomposition method:\n",
    "#### Find L and U by hand.\n",
    "#### Confirm that A=LU then solve.\n",
    "- Ex1. 𝟐𝒙+𝟓𝒚=𝟐𝟏, 𝒙+𝟐𝒚=𝟖.\n",
    "- Ex2. 𝒙𝟏+𝒙𝟐+𝒙𝟑=𝟏, 𝟒𝒙𝟏+𝟑𝒙𝟐−𝒙𝟑=𝟔, 𝟑𝒙𝟏+𝟓𝒙_𝟐+𝟑𝒙𝟑=𝟒\n",
    "\n",
    "#### Use scipy.linalg.lu() to slove the previous system using LU decomposition and compare the results."
   ]
  },
  {
   "cell_type": "markdown",
   "id": "e7e1208d",
   "metadata": {},
   "source": [
    "### Note (when using scipy):\n",
    "- In the second system of equations We can see the <b>L and U</b> we get are different from the ones we got by hand. \n",
    "- You will also see there is a permutation matrix <b>P</b> that returned by the <b>lu function</b>. \n",
    "- This permutation matrix record how do we change the order of the equations for easier calculation purposes (for example, if first element in first row is zero, it can not be the pivot equation, since you can not turn the first elements in other rows to zero. Therefore, we need to switch the order of the equations to get a new pivot equation). \n",
    "- If you multiply <b>P with A</b>, you will see that this permutation matrix effect.\n",
    "- You will need to arrange the ouput based on the new matrix <b>A</b> achieved by <b>LU</b> multiplication in order to correctly solve the system of equations."
   ]
  },
  {
   "cell_type": "code",
   "execution_count": 2,
   "id": "ae3f8230",
   "metadata": {},
   "outputs": [
    {
     "data": {
      "text/plain": [
       "array([[2, 5],\n",
       "       [1, 2]])"
      ]
     },
     "execution_count": 2,
     "metadata": {},
     "output_type": "execute_result"
    }
   ],
   "source": [
    "A = np.array([[2, 5], [1, 2]])\n",
    "A"
   ]
  },
  {
   "cell_type": "code",
   "execution_count": 3,
   "id": "e2e856e3",
   "metadata": {},
   "outputs": [
    {
     "data": {
      "text/plain": [
       "array([[21],\n",
       "       [ 8]])"
      ]
     },
     "execution_count": 3,
     "metadata": {},
     "output_type": "execute_result"
    }
   ],
   "source": [
    "Y = np.array([[21], [8]])\n",
    "Y"
   ]
  },
  {
   "cell_type": "code",
   "execution_count": 4,
   "id": "354e76b5",
   "metadata": {},
   "outputs": [
    {
     "name": "stdout",
     "output_type": "stream",
     "text": [
      "P:\n",
      " [[1. 0.]\n",
      " [0. 1.]] \n",
      "L:\n",
      " [[1.  0. ]\n",
      " [0.5 1. ]] \n",
      "U:\n",
      " [[ 2.   5. ]\n",
      " [ 0.  -0.5]]\n"
     ]
    }
   ],
   "source": [
    "P, L, U = lu(A)\n",
    "print(\"P:\\n\", P, \"\\nL:\\n\", L, \"\\nU:\\n\", U)"
   ]
  },
  {
   "cell_type": "code",
   "execution_count": 5,
   "id": "9ace17d0",
   "metadata": {},
   "outputs": [],
   "source": [
    "# L = np.tril(A)\n",
    "# L"
   ]
  },
  {
   "cell_type": "code",
   "execution_count": 6,
   "id": "116b1578",
   "metadata": {},
   "outputs": [],
   "source": [
    "# U = np.triu(A)\n",
    "# U"
   ]
  },
  {
   "cell_type": "code",
   "execution_count": 7,
   "id": "99103dc8",
   "metadata": {},
   "outputs": [
    {
     "data": {
      "text/plain": [
       "array([[21. ],\n",
       "       [-2.5]])"
      ]
     },
     "execution_count": 7,
     "metadata": {},
     "output_type": "execute_result"
    }
   ],
   "source": [
    "M = np.linalg.inv(L) @ Y\n",
    "M"
   ]
  },
  {
   "cell_type": "code",
   "execution_count": 8,
   "id": "c21cb0b4",
   "metadata": {},
   "outputs": [
    {
     "data": {
      "text/plain": [
       "array([[-2.],\n",
       "       [ 5.]])"
      ]
     },
     "execution_count": 8,
     "metadata": {},
     "output_type": "execute_result"
    }
   ],
   "source": [
    "X = np.linalg.inv(U) @ M\n",
    "X"
   ]
  },
  {
   "cell_type": "code",
   "execution_count": null,
   "id": "644ec47f",
   "metadata": {},
   "outputs": [],
   "source": []
  },
  {
   "cell_type": "code",
   "execution_count": 9,
   "id": "9df59b52",
   "metadata": {},
   "outputs": [
    {
     "data": {
      "text/plain": [
       "array([[ 1,  1,  1],\n",
       "       [ 4,  3, -1],\n",
       "       [ 3,  5,  3]])"
      ]
     },
     "execution_count": 9,
     "metadata": {},
     "output_type": "execute_result"
    }
   ],
   "source": [
    "A = np.array([[1, 1, 1], [4, 3, -1], [3, 5, 3]])\n",
    "A"
   ]
  },
  {
   "cell_type": "code",
   "execution_count": 10,
   "id": "18626b95",
   "metadata": {},
   "outputs": [
    {
     "data": {
      "text/plain": [
       "array([[1],\n",
       "       [6],\n",
       "       [4]])"
      ]
     },
     "execution_count": 10,
     "metadata": {},
     "output_type": "execute_result"
    }
   ],
   "source": [
    "Y = np.array([[1], [6], [4]])\n",
    "Y"
   ]
  },
  {
   "cell_type": "code",
   "execution_count": 11,
   "id": "b5ed8d99",
   "metadata": {},
   "outputs": [
    {
     "name": "stdout",
     "output_type": "stream",
     "text": [
      "P:\n",
      " [[0. 0. 1.]\n",
      " [1. 0. 0.]\n",
      " [0. 1. 0.]] \n",
      "L:\n",
      " [[1.         0.         0.        ]\n",
      " [0.75       1.         0.        ]\n",
      " [0.25       0.09090909 1.        ]] \n",
      "U:\n",
      " [[ 4.          3.         -1.        ]\n",
      " [ 0.          2.75        3.75      ]\n",
      " [ 0.          0.          0.90909091]]\n"
     ]
    }
   ],
   "source": [
    "P, L, U = lu(A)\n",
    "print(\"P:\\n\", P, \"\\nL:\\n\", L, \"\\nU:\\n\", U)"
   ]
  },
  {
   "cell_type": "code",
   "execution_count": 12,
   "id": "40261fb9",
   "metadata": {},
   "outputs": [
    {
     "data": {
      "text/plain": [
       "array([[6.],\n",
       "       [4.],\n",
       "       [1.]])"
      ]
     },
     "execution_count": 12,
     "metadata": {},
     "output_type": "execute_result"
    }
   ],
   "source": [
    "# As Matrix(P) is not an identity matrix\n",
    "# So we compute matrix(Y) as:\n",
    "Y = np.linalg.inv(P) @ Y\n",
    "Y"
   ]
  },
  {
   "cell_type": "code",
   "execution_count": 13,
   "id": "124ad8a0",
   "metadata": {},
   "outputs": [
    {
     "data": {
      "text/plain": [
       "array([[ 6.        ],\n",
       "       [-0.5       ],\n",
       "       [-0.45454545]])"
      ]
     },
     "execution_count": 13,
     "metadata": {},
     "output_type": "execute_result"
    }
   ],
   "source": [
    "M = np.linalg.inv(L) @ Y\n",
    "M"
   ]
  },
  {
   "cell_type": "code",
   "execution_count": 14,
   "id": "8db129da",
   "metadata": {},
   "outputs": [
    {
     "data": {
      "text/plain": [
       "array([[ 1. ],\n",
       "       [ 0.5],\n",
       "       [-0.5]])"
      ]
     },
     "execution_count": 14,
     "metadata": {},
     "output_type": "execute_result"
    }
   ],
   "source": [
    "X = np.linalg.inv(U) @ M\n",
    "X"
   ]
  },
  {
   "cell_type": "code",
   "execution_count": null,
   "id": "69453091",
   "metadata": {},
   "outputs": [],
   "source": []
  },
  {
   "cell_type": "markdown",
   "id": "4db8f2ad",
   "metadata": {},
   "source": [
    "### Apply the Jacobi and Gauss-Seidel method to solve\n",
    "- 𝟓𝒙𝟏−𝟐𝒙𝟐+𝟑𝒙𝟑=−𝟏, −𝟑𝒙𝟏+𝟗𝒙𝟐+𝒙𝟑=𝟐, 𝟐𝒙𝟏−𝒙𝟐−𝟕𝒙𝟑=𝟑\n",
    "- Solve once without vectorization then use vectorize implementation.\n",
    "- Check for convergance.\n",
    "- Use different tolerence and see the difference between the two methods. e.g. tol: 0.01,0.001,0.0001 ... etc."
   ]
  },
  {
   "cell_type": "code",
   "execution_count": 23,
   "id": "3a664e8b",
   "metadata": {},
   "outputs": [
    {
     "name": "stdout",
     "output_type": "stream",
     "text": [
      "diagonal    : [5 9 7]\n",
      "off diagonal: [5 4 3]\n",
      "matrix is diagonally dominant\n"
     ]
    }
   ],
   "source": []
  },
  {
   "cell_type": "markdown",
   "id": "4d314d80",
   "metadata": {},
   "source": [
    "# Jacobi"
   ]
  },
  {
   "cell_type": "code",
   "execution_count": null,
   "id": "a2676ff8",
   "metadata": {},
   "outputs": [
    {
     "name": "stdout",
     "output_type": "stream",
     "text": [
      "Iter #1 [[-0.2         0.22222222 -0.42857143]]\n",
      "Iter #2 [[ 0.14603175  0.2031746  -0.51746032]]\n",
      "Iter #3 [[ 0.19174603  0.32839506 -0.41587302]]\n",
      "Iter #4 [[ 0.18088183  0.33234568 -0.42070043]]\n",
      "Iter #5 [[ 0.18535853  0.32926066 -0.42436886]]\n",
      "Iter #6 [[ 0.18632558  0.33116049 -0.42264909]]\n",
      "Iter #7 [[ 0.18605365  0.33129176 -0.42264419]]\n",
      "Iter #8 [[ 0.18610322  0.33120057 -0.42274064]]\n",
      "Iter #9 [[ 0.18612461  0.33122781 -0.42271345]]\n",
      "Iter #10 [[ 0.18611919  0.33123192 -0.42271123]]\n"
     ]
    }
   ],
   "source": [
    "X1, X2, X3 = 0, 0, 0\n",
    "for i in range(10):\n",
    "    X = np.array([[(2*X2 - 3*X3 - 1) / 5], [(3*X1 - X3 + 2) / 9], [(2*X1 - X2 -3) / 7]])\n",
    "    X1, X2, X3 = X[0], X[1], X[2]\n",
    "    print(\"Iter #{}\".format(i+1), X.reshape(1, 3))"
   ]
  },
  {
   "cell_type": "code",
   "execution_count": null,
   "id": "416eba5e",
   "metadata": {},
   "outputs": [
    {
     "name": "stdout",
     "output_type": "stream",
     "text": [
      "Iteration\t\tX1\t\t\t\tX2\t\t\t\tX3\n",
      "1 \t\t -0.2 \t\t 0.2222222222222222 \t\t -0.42857142857142855\n",
      "2 \t\t 0.146031746031746 \t\t 0.20317460317460317 \t\t -0.5174603174603175\n",
      "3 \t\t 0.19174603174603178 \t\t 0.32839506172839505 \t\t -0.41587301587301584\n",
      "4 \t\t 0.18088183421516754 \t\t 0.3323456790123457 \t\t -0.42070042831947596\n",
      "5 \t\t 0.18535852859662386 \t\t 0.3292606589961087 \t\t -0.42436885865457297\n",
      "6 \t\t 0.18632557879118722 \t\t 0.3311604938271605 \t\t -0.4226490859718373\n",
      "7 \t\t 0.1860536491139666 \t\t 0.3312917580383777 \t\t -0.4226441908921123\n",
      "8 \t\t 0.18610321775061847 \t\t 0.3312005709148902 \t\t -0.42274063711577775\n",
      "9 \t\t 0.1861246106354227 \t\t 0.3312278100408481 \t\t -0.42271344791623616\n",
      "10 \t\t 0.18611919276608094 \t\t 0.33123191998027823 \t\t -0.42271122696714325\n"
     ]
    }
   ],
   "source": [
    "f1 = lambda x1,x2,x3: (2*x2 - 3*x3 - 1) / 5\n",
    "f2 = lambda x1,x2,x3: (3*x1 - x3 + 2) / 9\n",
    "f3 = lambda x1,x2,x3: (2*x1 - x2 -3) / 7\n",
    "\n",
    "x01, x02, x03 = 0, 0, 0\n",
    "i = 0\n",
    "print(\"Iteration\\t\\tX1\\t\\t\\t\\tX2\\t\\t\\t\\tX3\")\n",
    "\n",
    "while i<10:\n",
    "    x1 = f1(x01,x02,x03)\n",
    "    x2 = f2(x01,x02,x03)\n",
    "    x3 = f3(x01,x02,x03)\n",
    "    i+=1\n",
    "    print(i, \"\\t\\t\", x1, \"\\t\\t\", x2, \"\\t\\t\", x3)\n",
    "    x01, x02, x03 = x1, x2, x3"
   ]
  },
  {
   "cell_type": "code",
   "execution_count": null,
   "id": "e6b064b8",
   "metadata": {},
   "outputs": [],
   "source": []
  },
  {
   "cell_type": "markdown",
   "id": "b0efa878",
   "metadata": {},
   "source": [
    "- Vectorized Implementation"
   ]
  },
  {
   "cell_type": "code",
   "execution_count": null,
   "id": "f74a193f",
   "metadata": {},
   "outputs": [],
   "source": [
    "def Jacobi(A, B, X, n, epsilon):\n",
    "    # A decomposed into a diagonal component D, a lower triangular part L and an upper triangular part U --> A = D + L + U\n",
    "    # Get diagonal elements\n",
    "    D = np.diag(A)\n",
    "    # R = L + U (Off-diagonal parts)\n",
    "    R = A - np.diag(D)\n",
    "    X_old = X\n",
    "\n",
    "    for i in range(n):\n",
    "        X_new = np.linalg.inv(np.diag(D)) @ (B - R @ X_old)\n",
    "        if (np.linalg.norm(X_new - X_old, ord=np.inf) < epsilon):\n",
    "            print(\"No. of Iterations:\", i+1)\n",
    "            break;\n",
    "        X_old = X_new\n",
    "    return X_new"
   ]
  },
  {
   "cell_type": "code",
   "execution_count": null,
   "id": "57125b0c",
   "metadata": {},
   "outputs": [
    {
     "name": "stdout",
     "output_type": "stream",
     "text": [
      "No. of Iterations: 10\n"
     ]
    },
    {
     "data": {
      "text/plain": [
       "array([[ 0.18611919],\n",
       "       [ 0.33123192],\n",
       "       [-0.42271123]])"
      ]
     },
     "metadata": {},
     "output_type": "display_data"
    }
   ],
   "source": [
    "X = np.zeros(3).reshape(-1, 1)\n",
    "A = np.array([[5, -2, 3], [-3, 9, 1], [2, -1, -7]])\n",
    "B = np.array([[-1], [2], [3]])\n",
    "Jacobi(A, B, X, 20, 0.00001)"
   ]
  },
  {
   "cell_type": "code",
   "execution_count": null,
   "id": "9a8c9daf",
   "metadata": {},
   "outputs": [],
   "source": []
  },
  {
   "cell_type": "markdown",
   "id": "4b2af73a",
   "metadata": {},
   "source": [
    "# Gauss_Seidel"
   ]
  },
  {
   "cell_type": "markdown",
   "id": "38906535",
   "metadata": {},
   "source": [
    "- Vectorized Implementation"
   ]
  },
  {
   "cell_type": "code",
   "execution_count": null,
   "id": "a03d6d10",
   "metadata": {},
   "outputs": [],
   "source": [
    "def Gauss_Seidel(A, B, X, n, epsilon):\n",
    "    # A decomposed into a lower triangular component L*, and a strictly upper triangular component U --> A = L* + U\n",
    "    # Get L*\n",
    "    L = np.tril(A)\n",
    "    # Get U\n",
    "    U = np.triu(A) - np.diag(np.diag(A))\n",
    "    X_old = X\n",
    "\n",
    "    for i in range(n):\n",
    "        X_new = np.linalg.inv(L) @ (B - U @ X_old)\n",
    "        if (np.linalg.norm(X_new - X_old, ord=np.inf) < epsilon):\n",
    "            print(\"No. of Iterations:\", i+1)\n",
    "            break;\n",
    "        X_old = X_new\n",
    "    return X_new"
   ]
  },
  {
   "cell_type": "code",
   "execution_count": null,
   "id": "4168c74c",
   "metadata": {},
   "outputs": [
    {
     "name": "stdout",
     "output_type": "stream",
     "text": [
      "No. of Iterations: 7\n"
     ]
    },
    {
     "data": {
      "text/plain": [
       "array([[ 0.1861206 ],\n",
       "       [ 0.33123065],\n",
       "       [-0.42271278]])"
      ]
     },
     "metadata": {},
     "output_type": "display_data"
    }
   ],
   "source": [
    "X = np.zeros(3).reshape(-1, 1)\n",
    "A = np.array([[5, -2, 3], [-3, 9, 1], [2, -1, -7]])\n",
    "B = np.array([[-1], [2], [3]])\n",
    "Gauss_Seidel(A, B, X, 20, 0.00001)"
   ]
  },
  {
   "cell_type": "code",
   "execution_count": null,
   "id": "5269dbe1",
   "metadata": {},
   "outputs": [],
   "source": []
  },
  {
   "cell_type": "markdown",
   "id": "358e7fe3",
   "metadata": {},
   "source": [
    "### Use np.linalg.solve() to solve the previous system and compare the results."
   ]
  },
  {
   "cell_type": "code",
   "execution_count": 15,
   "id": "6132be1b",
   "metadata": {},
   "outputs": [
    {
     "data": {
      "text/plain": [
       "array([[ 0.18611987],\n",
       "       [ 0.33123028],\n",
       "       [-0.42271293]])"
      ]
     },
     "execution_count": 15,
     "metadata": {},
     "output_type": "execute_result"
    }
   ],
   "source": [
    "a = np.array([[5, -2, 3], [-3, 9, 1], [2, -1, -7]])\n",
    "b = np.array([[-1], [2], [3]])\n",
    "np.linalg.solve(a, b)"
   ]
  },
  {
   "cell_type": "code",
   "execution_count": null,
   "id": "1aac9941",
   "metadata": {},
   "outputs": [],
   "source": []
  },
  {
   "cell_type": "markdown",
   "id": "9b8e273e",
   "metadata": {},
   "source": [
    "### Use scipy.linalg.lu() to slove the previous system using LU decomposition and compare the results."
   ]
  },
  {
   "cell_type": "code",
   "execution_count": 16,
   "id": "e4aba9a3",
   "metadata": {},
   "outputs": [
    {
     "name": "stdout",
     "output_type": "stream",
     "text": [
      "P:\n",
      " [[1. 0. 0.]\n",
      " [0. 1. 0.]\n",
      " [0. 0. 1.]] \n",
      "L:\n",
      " [[ 1.          0.          0.        ]\n",
      " [-0.6         1.          0.        ]\n",
      " [ 0.4        -0.02564103  1.        ]] \n",
      "U:\n",
      " [[ 5.         -2.          3.        ]\n",
      " [ 0.          7.8         2.8       ]\n",
      " [ 0.          0.         -8.12820513]]\n"
     ]
    }
   ],
   "source": [
    "P, L, U = lu(a)\n",
    "print(\"P:\\n\", P, \"\\nL:\\n\", L, \"\\nU:\\n\", U)"
   ]
  },
  {
   "cell_type": "code",
   "execution_count": 18,
   "id": "124ad8a0",
   "metadata": {},
   "outputs": [
    {
     "name": "stdout",
     "output_type": "stream",
     "text": [
      "a = [[ 5 -2  3]\n",
      " [-3  9  1]\n",
      " [ 2 -1 -7]] \n",
      "LU = [[ 5. -2.  3.]\n",
      " [-3.  9.  1.]\n",
      " [ 2. -1. -7.]] \n",
      "M = [[-1.        ]\n",
      " [ 1.4       ]\n",
      " [ 3.43589744]] \n",
      "\n",
      "Solution:\n",
      "X = [[ 0.18611987]\n",
      " [ 0.33123028]\n",
      " [-0.42271293]]\n"
     ]
    }
   ],
   "source": [
    "M = np.linalg.inv(L) @ b\n",
    "X = np.linalg.inv(U) @ M\n",
    "print(\"a =\", a, \"\\nLU =\", L @ U, \"\\nM =\", M, \"\\n\\nSolution:\\nX =\",X)"
   ]
  },
  {
   "cell_type": "code",
   "execution_count": null,
   "id": "0508256c",
   "metadata": {},
   "outputs": [],
   "source": []
  }
 ],
 "metadata": {
  "interpreter": {
   "hash": "e63a1e48f41d189d0a88f47c5319c01e7c3631e13e607fd58f6a989fd2c26ecf"
  },
  "kernelspec": {
   "display_name": "Python 3.8.8",
   "language": "python",
   "name": "python3"
  },
  "language_info": {
   "codemirror_mode": {
    "name": "ipython",
    "version": 3
   },
   "file_extension": ".py",
   "mimetype": "text/x-python",
   "name": "python",
   "nbconvert_exporter": "python",
   "pygments_lexer": "ipython3",
   "version": "3.8.8"
  }
 },
 "nbformat": 4,
 "nbformat_minor": 5
}
